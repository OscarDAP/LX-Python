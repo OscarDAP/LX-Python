{
 "cells": [
  {
   "cell_type": "markdown",
   "metadata": {},
   "source": [
    "# Chequeo de asteroide\n",
    "\n",
    "## Ejercicio 1 -  Descripción\n",
    "\n",
    "La velocidad del asteroide varía dependiendo de lo cerca que esté del sol, y cualquier velocidad superior a 25 kilómetros por segundo (km/s) merece una advertencia."
   ]
  },
  {
   "cell_type": "code",
   "execution_count": 9,
   "metadata": {},
   "outputs": [
    {
     "name": "stdout",
     "output_type": "stream",
     "text": [
      "¡¡¡ Peligro !!!: Un Asteroide se acerca rapidamente\n"
     ]
    }
   ],
   "source": [
    "# Añadir el código necesario para crear una variable que guarde la velocidad del asteroide.\n",
    "# Escribe una expresión de prueba para calcular si necesita una advertencia.\n",
    "# Agregue las instrucciones que se ejecutarán si la expresión de prueba es true o false.\n",
    "\n",
    "# Un asteroide se acerca, y viaja a una velocidad de 49 km/s.\n",
    "velocidadMinimaAlerta=25\n",
    "valocidadAsteroide = 49 #km/h\n",
    "\n",
    "if valocidadAsteroide > velocidadMinimaAlerta:\n",
    "\tprint(\"¡¡¡ Peligro !!!: Un Asteroide se acerca rapidamente\")\n",
    "else:\n",
    "\tprint(\"Hay un asteroide acercandose pero no hay ningun signo de alarma, sigamos programando\")"
   ]
  },
  {
   "cell_type": "markdown",
   "metadata": {},
   "source": [
    "## Ejercicio 2 - Descripción\n",
    "\n",
    "Si un asteroide entra en la atmósfera de la Tierra a una velocidad mayor o igual a 20 km/s, a veces produce un rayo de luz que se puede ver desde la Tierra. Escribe la lógica condicional que usa declaraciones if, else, y elif para alertar a las personas de todo el mundo que deben buscar un asteroide en el cielo. ¡Hay uno que se dirige a la tierra ahora a una velocidad de 19 km/s!"
   ]
  },
  {
   "cell_type": "code",
   "execution_count": 10,
   "metadata": {},
   "outputs": [
    {
     "name": "stdout",
     "output_type": "stream",
     "text": [
      "Por aquí no hay nada, sigamos observando en otro lugar\n"
     ]
    }
   ],
   "source": [
    "# Añadir el código necesario para crear una variable que guarde la velocidad del asteroide.\n",
    "# Escribe una expresión de prueba para calcular si necesita una advertencia.\n",
    "# Agregue las instrucciones que se ejecutarán si la expresión de prueba es true o false.\n",
    "\n",
    "velocidadAsteroide = 19\n",
    "valocidadMinVisibilidad=20\n",
    "\n",
    "if velocidadAsteroide == 20:\n",
    "\tprint(\"¡¡¡ Miren !!!, Que luz tan brillante, es un asteroide que esta entrantrando a la tierra\")\n",
    "elif velocidadAsteroide > 20:\n",
    "\tprint(\"¡¡¡ Miren !!!, Que luz tan brillante, es un asteroide que esta entrantrando a la tierra\")\n",
    "else:\n",
    "\tprint(\"Por aquí no hay nada, sigamos observando en otro lugar\")\n",
    "\n"
   ]
  },
  {
   "cell_type": "markdown",
   "metadata": {},
   "source": [
    "## Ejercicio 3 - Descripción\n",
    "\n",
    "** Los asteroides de menos de 25 metros en su dimensión más grande probablemente se quemarán a medida que entren en la atmósfera de la Tierra.\n",
    "\n",
    "** Si una pieza de un asteroide que es más grande que 25 metros pero más pequeña que 1000 metros golpeara la Tierra, causaría mucho daño.\n",
    "\n",
    "**La velocidad del asteroide varía en función de lo cerca que esté del sol, y cualquier velocidad superior a 25 kilómetros por segundo (km/s) merece una advertencia.\n",
    "\n",
    "**Si un asteroide entra en la atmósfera de la Tierra a una velocidad mayor o igual a 20 km/s, a veces produce un rayo de luz que se puede ver desde la Tierra.\n",
    "\n",
    "Usando toda esta información, escribe un programa que emita la advertencia o información correcta a la gente de la Tierra, según la velocidad y el tamaño de un asteroide. Utiliza instrucciones if, else, y elif, así como los operadores and y or."
   ]
  },
  {
   "cell_type": "code",
   "execution_count": 11,
   "metadata": {},
   "outputs": [
    {
     "name": "stdout",
     "output_type": "stream",
     "text": [
      "Alerta, Alerta: Un asteroide de mas de 25 metros viene acercandose a la tierra peligrosamente a mas de 25km/h\n"
     ]
    }
   ],
   "source": [
    "# Agrega el código para crear nuevas variables para la velocidad y el tamaño del asteroide\n",
    "# Para probar el código, prueba con varias velocidades y tamaños\n",
    "# Escribe varias expresiones de prueba o combinaciones de expresiones de prueba para determinar qué mensaje se debe enviar a Tierra.\n",
    "\n",
    "velocidadAsteroide = 26\n",
    "tamañoAsteroide=30\n",
    "\n",
    "\n",
    "if velocidadAsteroide > 25 and  tamañoAsteroide > 25 :\n",
    "\tprint(\"Alerta, Alerta: Un asteroide de mas de 25 metros viene acercandose a la tierra peligrosamente a mas de 25km/h\")\n",
    "elif velocidadAsteroide >= 20:\n",
    "\tprint(\"Miren, Que destellos de luz tan asombrosos\")\n",
    "elif tamañoAsteroide < 25:\n",
    "\tprint(\"Que dia tan tranquilo, sigamos programando\")\n",
    "else:\n",
    "\tprint(\"Que dia tan tranquilo, sigamos programando\")\n",
    "\n"
   ]
  }
 ],
 "metadata": {
  "interpreter": {
   "hash": "b3ba2566441a7c06988d0923437866b63cedc61552a5af99d1f4fb67d367b25f"
  },
  "kernelspec": {
   "display_name": "Python 3.8.8 ('base')",
   "language": "python",
   "name": "python3"
  },
  "language_info": {
   "codemirror_mode": {
    "name": "ipython",
    "version": 3
   },
   "file_extension": ".py",
   "mimetype": "text/x-python",
   "name": "python",
   "nbconvert_exporter": "python",
   "pygments_lexer": "ipython3",
   "version": "3.8.8"
  },
  "orig_nbformat": 4
 },
 "nbformat": 4,
 "nbformat_minor": 2
}
