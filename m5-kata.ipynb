{
 "cells": [
  {
   "cell_type": "markdown",
   "metadata": {},
   "source": [
    "# Ejercicio1 - Utilizar operadores aritméticos"
   ]
  },
  {
   "cell_type": "code",
   "execution_count": 8,
   "metadata": {},
   "outputs": [
    {
     "name": "stdout",
     "output_type": "stream",
     "text": [
      " La distancia de la Tierra y Jupiter son 628949330 k/m o 390577533.93 Millas \n"
     ]
    }
   ],
   "source": [
    "distanciaTierra = 149597870\n",
    "distanciaJupiter = 778547200\n",
    "\n",
    "# Calcular la distancia entre planetas\n",
    "\n",
    "distanciaTieraJupiterKM = (distanciaJupiter - distanciaTierra) \n",
    "distanciaTieraJupiterMillas = distanciaTieraJupiterKM * 0.621 #KM\n",
    "\n",
    "print(f\" La distancia de la Tierra y Jupiter son %s k/m o %s Millas \" % (distanciaTieraJupiterKM ,distanciaTieraJupiterMillas))\n",
    "\n"
   ]
  },
  {
   "cell_type": "markdown",
   "metadata": {},
   "source": [
    "# Ejercicio 2: convierte cadenas en números y usa valores absolutos"
   ]
  },
  {
   "cell_type": "code",
   "execution_count": 9,
   "metadata": {},
   "outputs": [
    {
     "name": "stdout",
     "output_type": "stream",
     "text": [
      " La distancia de la Marte y Saturno son 50300000 k/m o 31236300.0 Millas \n"
     ]
    }
   ],
   "source": [
    "# Almacenar las entradas del usuario\n",
    "#Pista: variable = input(\"¿Cuál es tu nombre?\")\n",
    "\n",
    "\n",
    "strDistanciaPlaneta1=input(\"Introduzca la distancia que hay entre el Marte y el SOL\")\n",
    "strDistanciaPlaneta2=input(\"Introduzca la distancia qure hay entre el Saturno y el SOL\")\n",
    "\n",
    "distanciaPlaneta1=int(strDistanciaPlaneta1)\n",
    "distanciaPlaneta2=int(strDistanciaPlaneta2)\n",
    "\n",
    "\n",
    "# Realizar el cálculo y determinar el valor absoluto\n",
    "\n",
    "distanciaKm = abs(distanciaPlaneta2 - distanciaPlaneta1)\n",
    "distanciaMillas = distanciaKm * 0.621\n",
    "\n",
    "\n",
    "# Convertir de KM a Millas\n",
    "print(f\" La distancia entre Marte y Saturno son %s k/m o %s Millas \" % (distanciaKm ,distanciaMillas))\n",
    "\n"
   ]
  }
 ],
 "metadata": {
  "interpreter": {
   "hash": "b3ba2566441a7c06988d0923437866b63cedc61552a5af99d1f4fb67d367b25f"
  },
  "kernelspec": {
   "display_name": "Python 3.8.8 ('base')",
   "language": "python",
   "name": "python3"
  },
  "language_info": {
   "codemirror_mode": {
    "name": "ipython",
    "version": 3
   },
   "file_extension": ".py",
   "mimetype": "text/x-python",
   "name": "python",
   "nbconvert_exporter": "python",
   "pygments_lexer": "ipython3",
   "version": "3.8.8"
  },
  "orig_nbformat": 4
 },
 "nbformat": 4,
 "nbformat_minor": 2
}
