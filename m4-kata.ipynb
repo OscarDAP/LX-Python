{
 "cells": [
  {
   "cell_type": "markdown",
   "metadata": {},
   "source": [
    "# Ejercicio 1: Transformar cadenas"
   ]
  },
  {
   "cell_type": "code",
   "execution_count": null,
   "metadata": {},
   "outputs": [],
   "source": [
    "text = \"\"\"Interesting facts about the Moon. The Moon is Earth's only satellite. There are several interesting facts about the Moon and how it affects life here on Earth. On average, the Moon moves 4cm away from the Earth every year. This yearly drift is not significant enough to cause immediate effects on Earth. The highest daylight temperature of the Moon is 127 C.\"\"\"\n",
    "\n",
    "# Primero, divide el texto en cada oración para trabajar con su contenido:\n",
    "parsed = text.split('. ')\n",
    "\n",
    "# Define las palabras pista: average, temperature y distance suenan bien\n",
    "keywords = ['average','temperature','distance']\n",
    "\n",
    "# Cre un bucle para imprimir solo datos sobre la Luna que estén relacionados con las palabras clave definidas anteriormente:\n",
    "for word in parsed\t:\n",
    "\tfor keyword in keywords:\n",
    "\t\tif keyword in word:\n",
    "\t\t\tprint(word)\n",
    "\n",
    "\n",
    "# Finalmente, actualiza el bucle(ciclo) para cambiar C a Celsius:\n",
    "\n",
    "print(\"\\n\")\n",
    "for word in parsed\t:\n",
    "\tfor keyword in keywords:\n",
    "\t\tif keyword in word:\n",
    "\t\t\tprint(word.replace(' C', ' Celsius'))\n",
    "\t\t\tbreak\n"
   ]
  },
  {
   "cell_type": "markdown",
   "metadata": {},
   "source": [
    "## Ejercicio 2: Formateando Cadenas"
   ]
  },
  {
   "cell_type": "code",
   "execution_count": 27,
   "metadata": {},
   "outputs": [
    {
     "name": "stdout",
     "output_type": "stream",
     "text": [
      "Gravity Facts About Moon \n",
      "-------------------------------------------------------------------------------\n",
      "Planet Name: Earth\n",
      "Gravity on Moon: 1.6199999999999999 m/s2\n",
      "\n",
      "\n",
      "\n",
      "Gravity Facts about Ganímedes\n",
      "-------------------------------------------------------------------------------\n",
      "Planet Name: Marte\n",
      "Gravity on Ganímedes: 0.14300000000000002 m/s2\n",
      "\n"
     ]
    }
   ],
   "source": [
    "# Datos con los que vas a trabajar\n",
    "name = \"Moon\"\n",
    "gravity = 0.00162 # in kms\n",
    "planet = \"Earth\"\n",
    "\n",
    "# Creamos el título\n",
    "title = f\"Gravity Facts about {name}\"\n",
    "\n",
    "\n",
    "# Creamos la plantilla\n",
    "message = f\"\"\"-------------------------------------------------------------------------------\n",
    "Planet Name: {planet}\n",
    "Gravity on {name}: {gravity * 1000} m/s2\n",
    "\"\"\"\n",
    "\n",
    "\n",
    "# Unión de ambas cadenas\n",
    "finalText = f\"\"\"{title.title()} \n",
    "{message}\n",
    "\"\"\"\n",
    "print(finalText)\n",
    "\n",
    "name = \"Ganímedes\"\n",
    "gravity = 0.00143  # in kms\n",
    "planet = \"Marte\"\n",
    "\n",
    "\n",
    "newTemplate = \"\"\"\n",
    "Gravity Facts about {name}\n",
    "-------------------------------------------------------------------------------\n",
    "Planet Name: {planet}\n",
    "Gravity on {name}: {gravity} m/s2\n",
    "\"\"\"\n",
    "\n",
    "print(newTemplate.format(name=name,planet=planet,gravity=gravity*100))"
   ]
  }
 ],
 "metadata": {
  "interpreter": {
   "hash": "b3ba2566441a7c06988d0923437866b63cedc61552a5af99d1f4fb67d367b25f"
  },
  "kernelspec": {
   "display_name": "Python 3.8.8 ('base')",
   "language": "python",
   "name": "python3"
  },
  "language_info": {
   "codemirror_mode": {
    "name": "ipython",
    "version": 3
   },
   "file_extension": ".py",
   "mimetype": "text/x-python",
   "name": "python",
   "nbconvert_exporter": "python",
   "pygments_lexer": "ipython3",
   "version": "3.8.8"
  },
  "orig_nbformat": 4
 },
 "nbformat": 4,
 "nbformat_minor": 2
}
