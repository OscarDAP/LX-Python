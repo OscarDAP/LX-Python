{
 "cells": [
  {
   "cell_type": "markdown",
   "metadata": {},
   "source": [
    "# Uso de funciones"
   ]
  },
  {
   "cell_type": "code",
   "execution_count": 5,
   "metadata": {},
   "outputs": [
    {
     "data": {
      "text/plain": [
       "' reporte general\\n\\ttank1 = 30%  \\n\\ttank2 = 10%  \\n\\ttank3 = 60%  \\n\\tpromedio general = 33.333333333333336%\\n\\t'"
      ]
     },
     "execution_count": 5,
     "metadata": {},
     "output_type": "execute_result"
    }
   ],
   "source": [
    "# Función para leer 3 tanques de combustible y muestre el promedio\n",
    "def reporteCombustible(tank1,tank2,tank3):\n",
    "\n",
    "\tavg=calculoPromedio([tank1,tank2,tank3])\n",
    "\n",
    "\tmessage = f\"\"\" reporte general\n",
    "\ttank1 = {tank1}%  \n",
    "\ttank2 = {tank2}%  \n",
    "\ttank3 = {tank3}%  \n",
    "\tpromedio general = {avg}%\n",
    "\t\"\"\"\n",
    "\treturn message\n",
    "\n",
    "def calculoPromedio(values):\n",
    "\treturn sum(values)/len(values)\n",
    "\n",
    "\n",
    "\n",
    "reporteCombustible(30,10,60)"
   ]
  },
  {
   "cell_type": "markdown",
   "metadata": {},
   "source": [
    "## Ejercicio 2"
   ]
  },
  {
   "cell_type": "code",
   "execution_count": 17,
   "metadata": {},
   "outputs": [
    {
     "name": "stdout",
     "output_type": "stream",
     "text": [
      "\n",
      "    Destino de la mision Marte\n",
      "    Tiempo total de viaje: 60 minutos\n",
      "    Total de combustible: 120\n",
      "\n",
      "    Destino de la mision Marte\n",
      "    Tiempo total de viaje: 171 minutos\n",
      "    Total de combustible: 22\n",
      "\n",
      "\tDestino de la mision Marte\n",
      "\tTiempo total de viaje: 171 minutos\n",
      "\tCombustibles disponibles: inicial : 10 \n",
      "externo : 1 \n",
      "interno : 11 \n",
      "\n"
     ]
    }
   ],
   "source": [
    "# Función con un informe preciso de la misión. Considera hora de prelanzamiento, tiempo de vuelo, destino, tanque externo y tanque interno\n",
    "\n",
    "\n",
    "def informePreciso(\n",
    "\t\ttiempoPrelanzamiento,\n",
    "\t\ttiempoVuelo,\n",
    "\t\tdestino,\n",
    "\t\ttanqueExterno,\n",
    "\t\ttanqueInterno\n",
    "\t):\n",
    "   \treturn f\"\"\"\n",
    "    Destino de la mision {destino}\n",
    "    Tiempo total de viaje: {tiempoPrelanzamiento + tiempoVuelo} minutos\n",
    "    Total de combustible: { tanqueExterno + tanqueInterno}\"\"\"\n",
    "\n",
    "\n",
    "print(informePreciso(10,50,'Marte',30,90))\n",
    "\n",
    "# Escribe tu nueva función de reporte considerando lo anterior\n",
    "def informePrecisoDinamico(\n",
    "\t\tdestino,\n",
    "\t\t*tiemposVuelo,\n",
    "\t\t**tanquesCombustible\n",
    "\t):\n",
    "   \treturn f\"\"\"\n",
    "    Destino de la mision {destino}\n",
    "    Tiempo total de viaje: {sum(tiemposVuelo)} minutos\n",
    "    Total de combustible: { sum(tanquesCombustible.values())}\"\"\"\n",
    "\n",
    "\n",
    "print(informePrecisoDinamico('Marte',30,90,50,1,inicial=10,externo=1,interno=11))\n",
    "\n",
    "\n",
    "# Escribe tu nueva función\n",
    "\n",
    "def informePrecisoDinamico2(\n",
    "\t\tdestino,\n",
    "\t\t*tiemposVuelo,\n",
    "\t\t**tanquesCombustible\n",
    "\t):\n",
    "\n",
    "\t\tdetalleCombustible = \"\"\n",
    "\t\tfor key in tanquesCombustible.keys():\n",
    "\t\t\tdetalleCombustible += key + ' : '+ str(tanquesCombustible[key]) +\" \\n\"\n",
    "\t\t\n",
    "\t\treturn f\"\"\"\n",
    "\tDestino de la mision {destino}\n",
    "\tTiempo total de viaje: {sum(tiemposVuelo)} minutos\n",
    "\tCombustibles disponibles: { detalleCombustible}\"\"\"\n",
    "\n",
    "\n",
    "print(informePrecisoDinamico2('Marte',30,90,50,1,inicial=10,externo=1,interno=11))"
   ]
  }
 ],
 "metadata": {
  "interpreter": {
   "hash": "b3ba2566441a7c06988d0923437866b63cedc61552a5af99d1f4fb67d367b25f"
  },
  "kernelspec": {
   "display_name": "Python 3.8.8 ('base')",
   "language": "python",
   "name": "python3"
  },
  "language_info": {
   "codemirror_mode": {
    "name": "ipython",
    "version": 3
   },
   "file_extension": ".py",
   "mimetype": "text/x-python",
   "name": "python",
   "nbconvert_exporter": "python",
   "pygments_lexer": "ipython3",
   "version": "3.8.8"
  },
  "orig_nbformat": 4
 },
 "nbformat": 4,
 "nbformat_minor": 2
}
